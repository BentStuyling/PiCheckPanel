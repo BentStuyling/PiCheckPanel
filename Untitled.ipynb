{
 "cells": [
  {
   "cell_type": "code",
   "execution_count": 6,
   "metadata": {},
   "outputs": [
    {
     "data": {
      "image/png": "[encoded data removed]",
      "text/plain": [
       "<matplotlib.figure.Figure at 0x20357f91f98>"
      ]
     },
     "metadata": {},
     "output_type": "display_data"
    }
   ],
   "source": [
    "import matplotlib.pyplot as plt\n",
    "import matplotlib.animation as animation\n",
    "import random\n",
    "\n",
    "\n",
    "# Parameters\n",
    "x_len = 200         # Number of points to display\n",
    "y_range = [10, 40]  # Range of possible Y values to display\n",
    "\n",
    "# Create figure for plotting\n",
    "fig = plt.figure()\n",
    "ax = fig.add_subplot(1, 1, 1)\n",
    "xs = list(range(0, 200))\n",
    "ys = [0] * x_len\n",
    "ax.set_ylim(y_range)\n",
    "\n",
    "# Initialize communication with TMP102\n",
    "\n",
    "\n",
    "# Create a blank line. We will update the line in animate\n",
    "line, = ax.plot(xs, ys)\n",
    "\n",
    "# Add labels\n",
    "plt.title('TMP102 Temperature over Time')\n",
    "plt.xlabel('Samples')\n",
    "plt.ylabel('Temperature (deg C)')\n",
    "\n",
    "# This function is called periodically from FuncAnimation\n",
    "def animate(i, ys):\n",
    "\n",
    "\n",
    "\n",
    "    # Add y to list\n",
    "    ys.append(new_temp)\n",
    "\n",
    "    # Limit y list to set number of items\n",
    "    ys = ys[-x_len:]\n",
    "\n",
    "    # Update line with new Y values\n",
    "    line.set_ydata(ys)\n",
    "\n",
    "    return line,\n",
    "\n",
    "# Set up plot to call animate() function periodically\n",
    "ani = animation.FuncAnimation(fig,\n",
    "    animate,\n",
    "    fargs=(ys,),\n",
    "    interval=50,\n",
    "    blit=True)\n",
    "plt.show()\n"
   ]
  },
  {
   "cell_type": "code",
   "execution_count": null,
   "metadata": {
    "collapsed": true
   },
   "outputs": [],
   "source": []
  }
 ],
 "metadata": {
  "kernelspec": {
   "display_name": "Python 3",
   "language": "python",
   "name": "python3"
  },
  "language_info": {
   "codemirror_mode": {
    "name": "ipython",
    "version": 3
   },
   "file_extension": ".py",
   "mimetype": "text/x-python",
   "name": "python",
   "nbconvert_exporter": "python",
   "pygments_lexer": "ipython3",
   "version": "3.6.3"
  },
  "varInspector": {
   "cols": {
    "lenName": 16,
    "lenType": 16,
    "lenVar": 40
   },
   "kernels_config": {
    "python": {
     "delete_cmd_postfix": "",
     "delete_cmd_prefix": "del ",
     "library": "var_list.py",
     "varRefreshCmd": "print(var_dic_list())"
    },
    "r": {
     "delete_cmd_postfix": ") ",
     "delete_cmd_prefix": "rm(",
     "library": "var_list.r",
     "varRefreshCmd": "cat(var_dic_list()) "
    }
   },
   "types_to_exclude": [
    "module",
    "function",
    "builtin_function_or_method",
    "instance",
    "_Feature"
   ],
   "window_display": false
  }
 },
 "nbformat": 4,
 "nbformat_minor": 2
}
